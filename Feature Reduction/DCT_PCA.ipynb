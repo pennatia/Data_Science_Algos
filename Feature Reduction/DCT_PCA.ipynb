{
 "cells": [
  {
   "cell_type": "markdown",
   "metadata": {},
   "source": [
    "# 2D - DCT & PCA: MNIST Dataset\n",
    "In this module, we will look at the MNIST dataset and attempt to use a 2D Discrete Cosine Trasnform, as well as PCA to reduce the dataset into a much smaller set of features. \n"
   ]
  },
  {
   "cell_type": "markdown",
   "metadata": {},
   "source": [
    "## Import the necessary packages"
   ]
  },
  {
   "cell_type": "code",
   "execution_count": 2,
   "metadata": {},
   "outputs": [],
   "source": [
    "import numpy as np\n",
    "import pandas as pd\n",
    "from IPython import display\n",
    "import matplotlib.pyplot as plt \n",
    "import scipy.fft as scpfft\n",
    "import scipy.stats as scpstats\n",
    "import sklearn as skl\n",
    "import sklearn.decomposition as skdec"
   ]
  },
  {
   "cell_type": "markdown",
   "metadata": {},
   "source": [
    "\n",
    "## Read in the data\n",
    "Solution: \n",
    "- This can be easily accomplished using the pandas function read_csv\n",
    "- The following lines will read in the data from the csv and assign it to a variable called train_data\n",
    "- The following code will then also display the first 5 lines of train_data to ensure corrrect reading, by calling train_data.head()"
   ]
  },
  {
   "cell_type": "code",
   "execution_count": 3,
   "metadata": {},
   "outputs": [
    {
     "data": {
      "text/html": [
       "<div>\n",
       "<style scoped>\n",
       "    .dataframe tbody tr th:only-of-type {\n",
       "        vertical-align: middle;\n",
       "    }\n",
       "\n",
       "    .dataframe tbody tr th {\n",
       "        vertical-align: top;\n",
       "    }\n",
       "\n",
       "    .dataframe thead th {\n",
       "        text-align: right;\n",
       "    }\n",
       "</style>\n",
       "<table border=\"1\" class=\"dataframe\">\n",
       "  <thead>\n",
       "    <tr style=\"text-align: right;\">\n",
       "      <th></th>\n",
       "      <th>label</th>\n",
       "      <th>pixel0</th>\n",
       "      <th>pixel1</th>\n",
       "      <th>pixel2</th>\n",
       "      <th>pixel3</th>\n",
       "      <th>pixel4</th>\n",
       "      <th>pixel5</th>\n",
       "      <th>pixel6</th>\n",
       "      <th>pixel7</th>\n",
       "      <th>pixel8</th>\n",
       "      <th>...</th>\n",
       "      <th>pixel774</th>\n",
       "      <th>pixel775</th>\n",
       "      <th>pixel776</th>\n",
       "      <th>pixel777</th>\n",
       "      <th>pixel778</th>\n",
       "      <th>pixel779</th>\n",
       "      <th>pixel780</th>\n",
       "      <th>pixel781</th>\n",
       "      <th>pixel782</th>\n",
       "      <th>pixel783</th>\n",
       "    </tr>\n",
       "  </thead>\n",
       "  <tbody>\n",
       "    <tr>\n",
       "      <th>0</th>\n",
       "      <td>1</td>\n",
       "      <td>0</td>\n",
       "      <td>0</td>\n",
       "      <td>0</td>\n",
       "      <td>0</td>\n",
       "      <td>0</td>\n",
       "      <td>0</td>\n",
       "      <td>0</td>\n",
       "      <td>0</td>\n",
       "      <td>0</td>\n",
       "      <td>...</td>\n",
       "      <td>0</td>\n",
       "      <td>0</td>\n",
       "      <td>0</td>\n",
       "      <td>0</td>\n",
       "      <td>0</td>\n",
       "      <td>0</td>\n",
       "      <td>0</td>\n",
       "      <td>0</td>\n",
       "      <td>0</td>\n",
       "      <td>0</td>\n",
       "    </tr>\n",
       "    <tr>\n",
       "      <th>1</th>\n",
       "      <td>0</td>\n",
       "      <td>0</td>\n",
       "      <td>0</td>\n",
       "      <td>0</td>\n",
       "      <td>0</td>\n",
       "      <td>0</td>\n",
       "      <td>0</td>\n",
       "      <td>0</td>\n",
       "      <td>0</td>\n",
       "      <td>0</td>\n",
       "      <td>...</td>\n",
       "      <td>0</td>\n",
       "      <td>0</td>\n",
       "      <td>0</td>\n",
       "      <td>0</td>\n",
       "      <td>0</td>\n",
       "      <td>0</td>\n",
       "      <td>0</td>\n",
       "      <td>0</td>\n",
       "      <td>0</td>\n",
       "      <td>0</td>\n",
       "    </tr>\n",
       "    <tr>\n",
       "      <th>2</th>\n",
       "      <td>1</td>\n",
       "      <td>0</td>\n",
       "      <td>0</td>\n",
       "      <td>0</td>\n",
       "      <td>0</td>\n",
       "      <td>0</td>\n",
       "      <td>0</td>\n",
       "      <td>0</td>\n",
       "      <td>0</td>\n",
       "      <td>0</td>\n",
       "      <td>...</td>\n",
       "      <td>0</td>\n",
       "      <td>0</td>\n",
       "      <td>0</td>\n",
       "      <td>0</td>\n",
       "      <td>0</td>\n",
       "      <td>0</td>\n",
       "      <td>0</td>\n",
       "      <td>0</td>\n",
       "      <td>0</td>\n",
       "      <td>0</td>\n",
       "    </tr>\n",
       "    <tr>\n",
       "      <th>3</th>\n",
       "      <td>4</td>\n",
       "      <td>0</td>\n",
       "      <td>0</td>\n",
       "      <td>0</td>\n",
       "      <td>0</td>\n",
       "      <td>0</td>\n",
       "      <td>0</td>\n",
       "      <td>0</td>\n",
       "      <td>0</td>\n",
       "      <td>0</td>\n",
       "      <td>...</td>\n",
       "      <td>0</td>\n",
       "      <td>0</td>\n",
       "      <td>0</td>\n",
       "      <td>0</td>\n",
       "      <td>0</td>\n",
       "      <td>0</td>\n",
       "      <td>0</td>\n",
       "      <td>0</td>\n",
       "      <td>0</td>\n",
       "      <td>0</td>\n",
       "    </tr>\n",
       "    <tr>\n",
       "      <th>4</th>\n",
       "      <td>0</td>\n",
       "      <td>0</td>\n",
       "      <td>0</td>\n",
       "      <td>0</td>\n",
       "      <td>0</td>\n",
       "      <td>0</td>\n",
       "      <td>0</td>\n",
       "      <td>0</td>\n",
       "      <td>0</td>\n",
       "      <td>0</td>\n",
       "      <td>...</td>\n",
       "      <td>0</td>\n",
       "      <td>0</td>\n",
       "      <td>0</td>\n",
       "      <td>0</td>\n",
       "      <td>0</td>\n",
       "      <td>0</td>\n",
       "      <td>0</td>\n",
       "      <td>0</td>\n",
       "      <td>0</td>\n",
       "      <td>0</td>\n",
       "    </tr>\n",
       "  </tbody>\n",
       "</table>\n",
       "<p>5 rows × 785 columns</p>\n",
       "</div>"
      ],
      "text/plain": [
       "   label  pixel0  pixel1  pixel2  pixel3  pixel4  pixel5  pixel6  pixel7  \\\n",
       "0      1       0       0       0       0       0       0       0       0   \n",
       "1      0       0       0       0       0       0       0       0       0   \n",
       "2      1       0       0       0       0       0       0       0       0   \n",
       "3      4       0       0       0       0       0       0       0       0   \n",
       "4      0       0       0       0       0       0       0       0       0   \n",
       "\n",
       "   pixel8  ...  pixel774  pixel775  pixel776  pixel777  pixel778  pixel779  \\\n",
       "0       0  ...         0         0         0         0         0         0   \n",
       "1       0  ...         0         0         0         0         0         0   \n",
       "2       0  ...         0         0         0         0         0         0   \n",
       "3       0  ...         0         0         0         0         0         0   \n",
       "4       0  ...         0         0         0         0         0         0   \n",
       "\n",
       "   pixel780  pixel781  pixel782  pixel783  \n",
       "0         0         0         0         0  \n",
       "1         0         0         0         0  \n",
       "2         0         0         0         0  \n",
       "3         0         0         0         0  \n",
       "4         0         0         0         0  \n",
       "\n",
       "[5 rows x 785 columns]"
      ]
     },
     "execution_count": 3,
     "metadata": {},
     "output_type": "execute_result"
    }
   ],
   "source": [
    "train_data = pd.read_csv('Data/train.csv')          # Read in the Training Data\n",
    "train_data.head()                                   # Display the Top 5 rows of the read-in Data as a sanity check"
   ]
  },
  {
   "cell_type": "markdown",
   "metadata": {},
   "source": [
    "## Explore and reshape the data.\n",
    "\n",
    "Solution: \n",
    "- This can be easily accomplished by calling the pandas \"reshape\" function on the values of a given row (not counting the label)\n",
    "- We will first attempt to run this for one image only, to check that the resulting nested array is viable for plotting. \n",
    "- To do so, we will initially extract a singular row from the training data, drop the \"Label\" column using the pandas function .drop()\n",
    "- Once the \"label\" columnn has been dropped, we call pandas.reshape() to broadcast the 784 pixel values into a 28x28 matrix (using np.array for computational ease)\n",
    "- We will then display the resulting matrix and print its shape to ensure the reshaping has yielded the correct result. \n",
    "\n",
    "Once we have checked that our reshaping function works as intended, we will be confident in using this within an iterative loop to perform the same function across a given list of indices."
   ]
  },
  {
   "cell_type": "code",
   "execution_count": 5,
   "metadata": {},
   "outputs": [
    {
     "name": "stdout",
     "output_type": "stream",
     "text": [
      " The resulting array has shape: (28, 28)\n"
     ]
    }
   ],
   "source": [
    "extraction_trial = train_data.loc[0].drop(['label'])                    # Remove \"Label\" Column\n",
    "matrix_trial = np.array(extraction_trial.values.reshape([28,28]))       # Reshape values into a 28x28 numpy array\n",
    "print(f' The resulting array has shape: {matrix_trial.shape}')          # Check the Shape                                                         "
   ]
  },
  {
   "cell_type": "markdown",
   "metadata": {},
   "source": [
    "As a further sanity check, we can call Matplotlib's matshow function to ensure that the data was broadcasted without any transposes or rotations. \n",
    "In Part C, we will use this function within an iterative loop to generate the images for each of the numbers in our desired indices. "
   ]
  },
  {
   "cell_type": "code",
   "execution_count": 6,
   "metadata": {},
   "outputs": [
    {
     "data": {
      "text/plain": [
       "<matplotlib.image.AxesImage at 0x2b807d547c0>"
      ]
     },
     "execution_count": 6,
     "metadata": {},
     "output_type": "execute_result"
    },
    {
     "data": {
      "image/png": "[encoded data removed]",
      "text/plain": [
       "<Figure size 432x288 with 1 Axes>"
      ]
     },
     "metadata": {
      "needs_background": "light"
     },
     "output_type": "display_data"
    }
   ],
   "source": [
    "plt.imshow(matrix_trial, cmap = 'copper_r')           # Create a visualization for our Trial Matrix"
   ]
  },
  {
   "cell_type": "markdown",
   "metadata": {},
   "source": [
    "### Define the 2D DCT Function\n",
    "We will perform the 2-dimensional Discrete Cosine Transform by leveraging scipy's fft pack and their built-in DCT function. This will be done by taking the current steps:\n",
    "- We will define a function that calls scipy's DCT function twice within a given input matrix \"A\", and which will output the resulting matrix of DCT coefficients. \n",
    "    - This is necessary as scipy's original DCT function is not 2-dimensional, but only operates upon one dimension.\n",
    "    - Note: There seem to be other packages capable of directly performing 2D-DCT, but these have not been imported for use in this project. \n",
    "- After we have defined this function, we will perform a sanity check in order to determine whether the outputted results are as desired, by applying the 2D DCT on a trial matrix. \n",
    "- We will then search through the training data to find 10 image representations of each numerical value, and save their indices to a new index array, using pandas' localization functionalities. \n",
    "- Once we have these matrices, we can perform a 2D DCT on each of the 100 resulting matrices, by iterating with a for-loop. \n",
    "\n",
    "\n",
    "Here we define the 2D DCT Function leveraging Scipy's FFT pack and its DCT built-in function. Please note that we call the function on itself twice. An alternative to this would be using the newly implemented \"dctn\" function. However, for the sake of showing the underlyign structure of the 2D-DCT"
   ]
  },
  {
   "cell_type": "code",
   "execution_count": 7,
   "metadata": {},
   "outputs": [],
   "source": [
    "def dct2d(a):\n",
    "    return scpfft.dct(scpfft.dct(a.T, norm='ortho').T, norm='ortho')"
   ]
  },
  {
   "cell_type": "markdown",
   "metadata": {},
   "source": [
    "### Run on Sample Array\n",
    "Here we run the 2D-DCT function on a sample matrix, in order to check the output. "
   ]
  },
  {
   "cell_type": "code",
   "execution_count": 8,
   "metadata": {},
   "outputs": [
    {
     "name": "stdout",
     "output_type": "stream",
     "text": [
      "The 2D-DCT Output has shape: (28, 28)\n"
     ]
    },
    {
     "data": {
      "text/plain": [
       "<matplotlib.image.AxesImage at 0x2b807172550>"
      ]
     },
     "execution_count": 8,
     "metadata": {},
     "output_type": "execute_result"
    },
    {
     "data": {
      "image/png": "[encoded data removed]",
      "text/plain": [
       "<Figure size 432x288 with 1 Axes>"
      ]
     },
     "metadata": {
      "needs_background": "light"
     },
     "output_type": "display_data"
    }
   ],
   "source": [
    "dct_trial = dct2d(matrix_trial)                                     # Call the Function\n",
    "print(f'The 2D-DCT Output has shape: {np.shape(dct_trial)}')        # Check the shape\n",
    "plt.imshow(dct_trial, cmap = 'copper_r')                                               # Check the resulting matrix by displaying"
   ]
  },
  {
   "cell_type": "markdown",
   "metadata": {},
   "source": [
    "### Extract the Indices for the first 10 Representation of Each Numerical Value \n",
    "Here we leverage pandas' convenient indexing functionality to find the indices of the first representation of each numerical value, by using the \"Label\" column as an identifier. \n",
    "We then concatenate each of the resulting representative indices into an index array which will hold the indices of all rows of interest within the data. "
   ]
  },
  {
   "cell_type": "code",
   "execution_count": 9,
   "metadata": {},
   "outputs": [
    {
     "data": {
      "text/plain": [
       "array([  1,   4,   5,  17,  23,  54,  63,  69,  98, 108,   0,   2,  12,\n",
       "        15,  35,  37,  38,  41,  52,  59,  16,  22,  24,  34,  44,  55,\n",
       "        56,  73,  84,  94,   7,   9,  13,  14,  25,  36,  46,  57,  65,\n",
       "        70,   3,  32,  39,  42,  43,  49,  66,  75,  78,  81,   8,  19,\n",
       "        51,  62,  80,  99, 107, 119, 125, 128,  21,  26,  45,  64,  72,\n",
       "        74,  89,  91,  93, 109,   6,  18,  29,  47,  48,  50,  76, 102,\n",
       "       103, 116,  10,  20,  30,  67,  82,  87, 105, 106, 131, 135,  11,\n",
       "        27,  28,  31,  33,  40,  53,  58,  71,  83], dtype=int64)"
      ]
     },
     "execution_count": 9,
     "metadata": {},
     "output_type": "execute_result"
    }
   ],
   "source": [
    "# Extract the first ten Indices for Each Numerical Representation of Interest \n",
    "ind_0  = np.array(train_data[train_data['label'] == 0].index)[:10]\n",
    "ind_1  = np.array(train_data[train_data['label'] == 1].index)[:10]\n",
    "ind_2  = np.array(train_data[train_data['label'] == 2].index)[:10]\n",
    "ind_3  = np.array(train_data[train_data['label'] == 3].index)[:10]\n",
    "ind_4  = np.array(train_data[train_data['label'] == 4].index)[:10]\n",
    "ind_5  = np.array(train_data[train_data['label'] == 5].index)[:10]\n",
    "ind_6  = np.array(train_data[train_data['label'] == 6].index)[:10]\n",
    "ind_7  = np.array(train_data[train_data['label'] == 7].index)[:10]\n",
    "ind_8  = np.array(train_data[train_data['label'] == 8].index)[:10]\n",
    "ind_9  = np.array(train_data[train_data['label'] == 9].index)[:10]\n",
    "\n",
    "#Concatenate them and print the resulting index array, in order to ensure the indices are accurate. \n",
    "index_array = np.concatenate((ind_0,ind_1,ind_2,ind_3,ind_4,ind_5,ind_6,ind_7,ind_8,ind_9))\n",
    "index_array"
   ]
  },
  {
   "cell_type": "markdown",
   "metadata": {},
   "source": [
    "### Extract the DCT Coefficient Matrices for all 100 Images\n",
    "Here we will create a for-loop, call the 2D-DCT function defined above to create a 2D-DCT Coefficients Matrix for each of the Indices defined above. \n",
    "We will then check the first matrix of the output to make sure the data is of correct shape and logic. "
   ]
  },
  {
   "cell_type": "code",
   "execution_count": 10,
   "metadata": {},
   "outputs": [
    {
     "name": "stdout",
     "output_type": "stream",
     "text": [
      "The output has shape (100, 28, 28)\n",
      "A single DCT matrix has shape(28, 28)\n"
     ]
    },
    {
     "data": {
      "text/plain": [
       "<matplotlib.image.AxesImage at 0x2b807c10250>"
      ]
     },
     "execution_count": 10,
     "metadata": {},
     "output_type": "execute_result"
    },
    {
     "data": {
      "image/png": "[encoded data removed]",
      "text/plain": [
       "<Figure size 432x288 with 1 Axes>"
      ]
     },
     "metadata": {
      "needs_background": "light"
     },
     "output_type": "display_data"
    }
   ],
   "source": [
    "dct_mats = []                                                   # Initialize Output Array\n",
    "\n",
    "# Perform the methodology described above, iterating through target indices\n",
    "for index in index_array:\n",
    "    current_array = train_data.loc[index]\n",
    "    temp_array = current_array.drop(['label'])\n",
    "    temp_matrix = temp_array.values.reshape([28,28])\n",
    "    temp_dct_data = dct2d(temp_matrix)\n",
    "    dct_mats.append(temp_dct_data)\n",
    "\n",
    "print(f'The output has shape {np.shape(dct_mats)}')             # Check DataSet Shape\n",
    "print(f'A single DCT matrix has shape{np.shape(dct_mats[0])}')  # Check Single DCT Matrix Shape\n",
    "plt.imshow(dct_mats[0], cmap = 'copper_r')                                         # Perform Visual Sanity Check for \"0\" representation"
   ]
  },
  {
   "cell_type": "markdown",
   "metadata": {},
   "source": [
    "## Extract the vertical, horizontal and diagonal coefficients from the transform.\n",
    "\n",
    "In order to extract the vertical, horizontal and diagonal coefficients of the transform, we will perform the following steps:\n",
    "- Define a 28x28 Vertical Transform Mask\n",
    "- Define a 28x28 Horizontal Transform Mask\n",
    "- Define a 28x28 Diagonal Transform Mask\n",
    "- From each of the three types of masks (corresponding to each type of transform), extract the indices of the features each of transform will choose to extract. \n",
    "- Once these have been retained, we will initialize a for-loop to perform the same DCT operations as that above, and proceed to extract each of the horizontal, vertical and diagonal transform from each of the DCT coefficient matrices. \n",
    "\n",
    "This methodology will yield three separate sets of DCT Coefficients: Horizontal, Vertical, and Diagonal. Each of these will contain the relevant coefficients for each of the 100 matrices transformed."
   ]
  },
  {
   "cell_type": "markdown",
   "metadata": {},
   "source": [
    "### Create the Diagonal, Vertical and Horizontal Masks\n",
    "Here, we create matrices of 1's and 0's that will act as masks for our DCT matrix. These have been adapted from Prof. Rodriguez's own Matlab code. "
   ]
  },
  {
   "cell_type": "code",
   "execution_count": 11,
   "metadata": {},
   "outputs": [],
   "source": [
    "v_mask =   np.array(\n",
    "            [[0,1,1,1,1,1,1,1,1,1,1,1,1,1,1,1,1,1,1,1,1,1,1,1,1,1,1,1],\n",
    "            [0,0,1,1,1,1,1,1,1,1,1,1,1,1,1,1,1,1,1,1,1,1,1,1,1,1,1,1],\n",
    "            [0,0,0,0,1,1,1,1,1,1,1,1,1,1,1,1,1,1,1,1,1,1,1,1,1,1,1,1],\n",
    "            [0,0,0,0,0,1,1,1,1,1,1,1,1,1,1,1,1,1,1,1,1,1,1,1,1,1,1,1],\n",
    "            [0,0,0,0,0,0,1,1,1,1,1,1,1,1,1,1,1,1,1,1,1,1,1,1,1,1,1,1],\n",
    "            [0,0,0,0,0,0,0,1,1,1,1,1,1,1,1,1,1,1,1,1,1,1,1,1,1,1,1,1],\n",
    "            [0,0,0,0,0,0,0,0,0,1,1,1,1,1,1,1,1,1,1,1,1,1,1,1,1,1,1,1],\n",
    "            [0,0,0,0,0,0,0,0,0,0,0,1,1,1,1,1,1,1,1,1,1,1,1,1,1,1,1,1],\n",
    "            [0,0,0,0,0,0,0,0,0,0,0,0,0,1,1,1,1,1,1,1,1,1,1,1,1,1,1,1],\n",
    "            [0,0,0,0,0,0,0,0,0,0,0,0,0,0,0,0,1,1,1,1,1,1,1,1,1,1,1,1],\n",
    "            [0,0,0,0,0,0,0,0,0,0,0,0,0,0,0,0,0,0,0,1,1,1,1,1,1,1,1,1],\n",
    "            [0,0,0,0,0,0,0,0,0,0,0,0,0,0,0,0,0,0,0,0,0,0,1,1,1,1,1,1],\n",
    "            [0,0,0,0,0,0,0,0,0,0,0,0,0,0,0,0,0,0,0,0,0,0,0,0,0,1,1,1],\n",
    "            [0,0,0,0,0,0,0,0,0,0,0,0,0,0,0,0,0,0,0,0,0,0,0,0,0,0,0,0],\n",
    "            [0,0,0,0,0,0,0,0,0,0,0,0,0,0,0,0,0,0,0,0,0,0,0,0,0,0,0,0],\n",
    "            [0,0,0,0,0,0,0,0,0,0,0,0,0,0,0,0,0,0,0,0,0,0,0,0,0,0,0,0],\n",
    "            [0,0,0,0,0,0,0,0,0,0,0,0,0,0,0,0,0,0,0,0,0,0,0,0,0,0,0,0],\n",
    "            [0,0,0,0,0,0,0,0,0,0,0,0,0,0,0,0,0,0,0,0,0,0,0,0,0,0,0,0],\n",
    "            [0,0,0,0,0,0,0,0,0,0,0,0,0,0,0,0,0,0,0,0,0,0,0,0,0,0,0,0],\n",
    "            [0,0,0,0,0,0,0,0,0,0,0,0,0,0,0,0,0,0,0,0,0,0,0,0,0,0,0,0],\n",
    "            [0,0,0,0,0,0,0,0,0,0,0,0,0,0,0,0,0,0,0,0,0,0,0,0,0,0,0,0],\n",
    "            [0,0,0,0,0,0,0,0,0,0,0,0,0,0,0,0,0,0,0,0,0,0,0,0,0,0,0,0],\n",
    "            [0,0,0,0,0,0,0,0,0,0,0,0,0,0,0,0,0,0,0,0,0,0,0,0,0,0,0,0],\n",
    "            [0,0,0,0,0,0,0,0,0,0,0,0,0,0,0,0,0,0,0,0,0,0,0,0,0,0,0,0],\n",
    "            [0,0,0,0,0,0,0,0,0,0,0,0,0,0,0,0,0,0,0,0,0,0,0,0,0,0,0,0],\n",
    "            [0,0,0,0,0,0,0,0,0,0,0,0,0,0,0,0,0,0,0,0,0,0,0,0,0,0,0,0],\n",
    "            [0,0,0,0,0,0,0,0,0,0,0,0,0,0,0,0,0,0,0,0,0,0,0,0,0,0,0,0],\n",
    "            [0,0,0,0,0,0,0,0,0,0,0,0,0,0,0,0,0,0,0,0,0,0,0,0,0,0,0,0]])\n",
    "\n",
    "h_mask =    np.array(\n",
    "            [[0,0,0,0,0,0,0,0,0,0,0,0,0,0,0,0,0,0,0,0,0,0,0,0,0,0,0,0],\n",
    "             [1,0,0,0,0,0,0,0,0,0,0,0,0,0,0,0,0,0,0,0,0,0,0,0,0,0,0,0],\n",
    "             [1,1,0,0,0,0,0,0,0,0,0,0,0,0,0,0,0,0,0,0,0,0,0,0,0,0,0,0],\n",
    "             [1,1,0,0,0,0,0,0,0,0,0,0,0,0,0,0,0,0,0,0,0,0,0,0,0,0,0,0],\n",
    "             [1,1,1,0,0,0,0,0,0,0,0,0,0,0,0,0,0,0,0,0,0,0,0,0,0,0,0,0],\n",
    "             [1,1,1,1,0,0,0,0,0,0,0,0,0,0,0,0,0,0,0,0,0,0,0,0,0,0,0,0],\n",
    "             [1,1,1,1,1,0,0,0,0,0,0,0,0,0,0,0,0,0,0,0,0,0,0,0,0,0,0,0],\n",
    "             [1,1,1,1,1,1,0,0,0,0,0,0,0,0,0,0,0,0,0,0,0,0,0,0,0,0,0,0],\n",
    "             [1,1,1,1,1,1,0,0,0,0,0,0,0,0,0,0,0,0,0,0,0,0,0,0,0,0,0,0],\n",
    "             [1,1,1,1,1,1,1,0,0,0,0,0,0,0,0,0,0,0,0,0,0,0,0,0,0,0,0,0],\n",
    "             [1,1,1,1,1,1,1,0,0,0,0,0,0,0,0,0,0,0,0,0,0,0,0,0,0,0,0,0],\n",
    "             [1,1,1,1,1,1,1,1,0,0,0,0,0,0,0,0,0,0,0,0,0,0,0,0,0,0,0,0],\n",
    "             [1,1,1,1,1,1,1,1,0,0,0,0,0,0,0,0,0,0,0,0,0,0,0,0,0,0,0,0],\n",
    "             [1,1,1,1,1,1,1,1,1,0,0,0,0,0,0,0,0,0,0,0,0,0,0,0,0,0,0,0],\n",
    "             [1,1,1,1,1,1,1,1,1,0,0,0,0,0,0,0,0,0,0,0,0,0,0,0,0,0,0,0],\n",
    "             [1,1,1,1,1,1,1,1,1,0,0,0,0,0,0,0,0,0,0,0,0,0,0,0,0,0,0,0],\n",
    "             [1,1,1,1,1,1,1,1,1,1,0,0,0,0,0,0,0,0,0,0,0,0,0,0,0,0,0,0],\n",
    "             [1,1,1,1,1,1,1,1,1,1,0,0,0,0,0,0,0,0,0,0,0,0,0,0,0,0,0,0],\n",
    "             [1,1,1,1,1,1,1,1,1,1,0,0,0,0,0,0,0,0,0,0,0,0,0,0,0,0,0,0],\n",
    "             [1,1,1,1,1,1,1,1,1,1,1,0,0,0,0,0,0,0,0,0,0,0,0,0,0,0,0,0],\n",
    "             [1,1,1,1,1,1,1,1,1,1,1,0,0,0,0,0,0,0,0,0,0,0,0,0,0,0,0,0],\n",
    "             [1,1,1,1,1,1,1,1,1,1,1,0,0,0,0,0,0,0,0,0,0,0,0,0,0,0,0,0],\n",
    "             [1,1,1,1,1,1,1,1,1,1,1,1,0,0,0,0,0,0,0,0,0,0,0,0,0,0,0,0],\n",
    "             [1,1,1,1,1,1,1,1,1,1,1,1,0,0,0,0,0,0,0,0,0,0,0,0,0,0,0,0],\n",
    "             [1,1,1,1,1,1,1,1,1,1,1,1,0,0,0,0,0,0,0,0,0,0,0,0,0,0,0,0],\n",
    "             [1,1,1,1,1,1,1,1,1,1,1,1,1,0,0,0,0,0,0,0,0,0,0,0,0,0,0,0],\n",
    "             [1,1,1,1,1,1,1,1,1,1,1,1,1,0,0,0,0,0,0,0,0,0,0,0,0,0,0,0],\n",
    "             [1,1,1,1,1,1,1,1,1,1,1,1,1,0,0,0,0,0,0,0,0,0,0,0,0,0,0,0]])\n",
    "\n",
    "d_mask =   np.array(\n",
    "            [[0,0,0,0,0,0,0,0,0,0,0,0,0,0,0,0,0,0,0,0,0,0,0,0,0,0,0,0],\n",
    "            [0,1,0,0,0,0,0,0,0,0,0,0,0,0,0,0,0,0,0,0,0,0,0,0,0,0,0,0],\n",
    "            [0,0,1,1,0,0,0,0,0,0,0,0,0,0,0,0,0,0,0,0,0,0,0,0,0,0,0,0],\n",
    "            [0,0,1,1,1,0,0,0,0,0,0,0,0,0,0,0,0,0,0,0,0,0,0,0,0,0,0,0],\n",
    "            [0,0,0,1,1,1,0,0,0,0,0,0,0,0,0,0,0,0,0,0,0,0,0,0,0,0,0,0],\n",
    "            [0,0,0,0,1,1,1,0,0,0,0,0,0,0,0,0,0,0,0,0,0,0,0,0,0,0,0,0],\n",
    "            [0,0,0,0,0,1,1,1,1,0,0,0,0,0,0,0,0,0,0,0,0,0,0,0,0,0,0,0],\n",
    "            [0,0,0,0,0,0,1,1,1,1,1,0,0,0,0,0,0,0,0,0,0,0,0,0,0,0,0,0],\n",
    "            [0,0,0,0,0,0,1,1,1,1,1,1,1,0,0,0,0,0,0,0,0,0,0,0,0,0,0,0],\n",
    "            [0,0,0,0,0,0,0,1,1,1,1,1,1,1,1,1,0,0,0,0,0,0,0,0,0,0,0,0],\n",
    "            [0,0,0,0,0,0,0,1,1,1,1,1,1,1,1,1,1,1,1,0,0,0,0,0,0,0,0,0],\n",
    "            [0,0,0,0,0,0,0,0,1,1,1,1,1,1,1,1,1,1,1,1,1,1,0,0,0,0,0,0],\n",
    "            [0,0,0,0,0,0,0,0,1,1,1,1,1,1,1,1,1,1,1,1,1,1,1,1,1,0,0,0],\n",
    "            [0,0,0,0,0,0,0,0,0,1,1,1,1,1,1,1,1,1,1,1,1,1,1,1,1,1,1,1],\n",
    "            [0,0,0,0,0,0,0,0,0,1,1,1,1,1,1,1,1,1,1,1,1,1,1,1,1,1,1,1],\n",
    "            [0,0,0,0,0,0,0,0,0,1,1,1,1,1,1,1,1,1,1,1,1,1,1,1,1,1,1,1],\n",
    "            [0,0,0,0,0,0,0,0,0,0,1,1,1,1,1,1,1,1,1,1,1,1,1,1,1,1,1,1],\n",
    "            [0,0,0,0,0,0,0,0,0,0,1,1,1,1,1,1,1,1,1,1,1,1,1,1,1,1,1,1],\n",
    "            [0,0,0,0,0,0,0,0,0,0,1,1,1,1,1,1,1,1,1,1,1,1,1,1,1,1,1,1],\n",
    "            [0,0,0,0,0,0,0,0,0,0,0,1,1,1,1,1,1,1,1,1,1,1,1,1,1,1,1,1],\n",
    "            [0,0,0,0,0,0,0,0,0,0,0,1,1,1,1,1,1,1,1,1,1,1,1,1,1,1,1,1],\n",
    "            [0,0,0,0,0,0,0,0,0,0,0,1,1,1,1,1,1,1,1,1,1,1,1,1,1,1,1,1],\n",
    "            [0,0,0,0,0,0,0,0,0,0,0,0,1,1,1,1,1,1,1,1,1,1,1,1,1,1,1,1],\n",
    "            [0,0,0,0,0,0,0,0,0,0,0,0,1,1,1,1,1,1,1,1,1,1,1,1,1,1,1,1],\n",
    "            [0,0,0,0,0,0,0,0,0,0,0,0,1,1,1,1,1,1,1,1,1,1,1,1,1,1,1,1],\n",
    "            [0,0,0,0,0,0,0,0,0,0,0,0,0,1,1,1,1,1,1,1,1,1,1,1,1,1,1,1],\n",
    "            [0,0,0,0,0,0,0,0,0,0,0,0,0,1,1,1,1,1,1,1,1,1,1,1,1,1,1,1],\n",
    "            [0,0,0,0,0,0,0,0,0,0,0,0,0,1,1,1,1,1,1,1,1,1,1,1,1,1,1,1]])\n"
   ]
  },
  {
   "cell_type": "markdown",
   "metadata": {},
   "source": [
    "### Extract the Indices\n",
    "Here, we find the indices we will choose to keep for the Diagonal, Horizontal and Vertical transforms respectively. "
   ]
  },
  {
   "cell_type": "code",
   "execution_count": 12,
   "metadata": {},
   "outputs": [],
   "source": [
    "# Extract Indices for Vertical Mask\n",
    "vectorized_v_mask = np.matrix.flatten(v_mask)           \n",
    "v_indices = []                                          \n",
    "for i in range(len(vectorized_v_mask)):\n",
    "    if vectorized_v_mask[i] == 1:\n",
    "        v_indices.append(i)\n",
    "\n",
    "# Extract Indices for Horizontal Mask\n",
    "vectorized_h_mask = np.matrix.flatten(h_mask)\n",
    "h_indices = []\n",
    "for i in range(len(vectorized_h_mask)):\n",
    "    if vectorized_h_mask[i] == 1:\n",
    "        h_indices.append(i)\n",
    "\n",
    "# Extract Indices for Diagonal Mask\n",
    "vectorized_d_mask = np.matrix.flatten(d_mask)\n",
    "d_indices = []\n",
    "for i in range(len(vectorized_d_mask)):\n",
    "    if vectorized_d_mask[i] == 1:\n",
    "        d_indices.append(i)\n"
   ]
  },
  {
   "cell_type": "markdown",
   "metadata": {},
   "source": [
    "### Extract Horizontal, Vertical and Diagonal Coefficients from DCT Transform\n",
    "We call the same for-loop as we called in Question 3, Part A. Here, however, we apply the Vertical, Diagonal and Horizontal masks to the DCT transform of each image, and save it to three separate arrays, in order to have a vertical, diagonal and horizontal DCT transform of each image. This will later allows us to perform Principal Components Analysis on each of the three datasets. We then check the shape and tendency of the data to ensure correctness. "
   ]
  },
  {
   "cell_type": "code",
   "execution_count": 13,
   "metadata": {},
   "outputs": [
    {
     "name": "stdout",
     "output_type": "stream",
     "text": [
      "(100, 224)\n",
      "(100, 224)\n",
      "(100, 335)\n"
     ]
    }
   ],
   "source": [
    "# Initialize Vertical, Horizontal, and Diagonal Data Sets\n",
    "V_Data = []\n",
    "H_Data = []\n",
    "D_Data = []\n",
    "\n",
    "for index in index_array:                                                       \n",
    "    current_array = train_data.loc[index]                                               # Extract relevant Matrix from Data\n",
    "    temp_array = current_array.drop(['label'])                                          # Drop label column\n",
    "    temp_matrix = temp_array.values.reshape([28,28])                                    # Reshape to 28x28 matrix\n",
    "    temp_dct_data = dct2d(temp_matrix)                                                  # Perfrom 2D DCT Transform of current matrix\n",
    "    vectorized_v_dct = np.matrix.flatten(np.multiply(temp_dct_data, v_mask))            # Apply Vertical Mask to 2D DCT Transform \n",
    "    vectorized_h_dct = np.matrix.flatten(np.multiply(temp_dct_data, h_mask))            # Apply Horizontal Mask to 2D DCT Transform \n",
    "    vectorized_d_dct = np.matrix.flatten(np.multiply(temp_dct_data, d_mask))            # Apply Diagonal Mask to 2D DCT Transform \n",
    "    V_Data.append(vectorized_v_dct[v_indices])                                          # Append Vertical DCT Coefficients \n",
    "    D_Data.append(vectorized_d_dct[d_indices])                                          # Append Diagonal DCT Coefficients\n",
    "    H_Data.append(vectorized_h_dct[h_indices])                                          # Append Horizontal DCT Coefficients \n",
    "\n",
    "# Convert resultant datasets to numpy arrays for ease of computation\n",
    "V_Data_arr = np.array(V_Data)\n",
    "H_Data_arr = np.array(H_Data)\n",
    "D_Data_arr = np.array(D_Data)\n",
    "\n",
    "# Check the Shape of Each Transform\n",
    "print(np.shape(V_Data_arr))\n",
    "print(np.shape(H_Data_arr))\n",
    "print(np.shape(D_Data_arr))"
   ]
  },
  {
   "cell_type": "markdown",
   "metadata": {},
   "source": [
    "### Diagonal Data PCA | Sklearn Methodology\n",
    "Here, we leverage sklearn's decomposition package and its built-in PCA function in order to perform PCA for each of the three types of transforms, and extract:\n",
    "- The transformed data\n",
    "- The eigenvectors\n",
    "- The singular eigenvalues\n",
    "- The total explained variance\n",
    "\n",
    "This will create a number of components equal to the lower value between the number of samples and the number of features. In our case, given that our sample size has n = 100, it will be 100. "
   ]
  },
  {
   "cell_type": "code",
   "execution_count": 14,
   "metadata": {},
   "outputs": [],
   "source": [
    "D_Data_PCA = skdec.PCA()                                        # Initialize PCA with n = 20\n",
    "D_Data_Transform = D_Data_PCA.fit_transform(D_Data_arr)         # Apply to Diagonal Data Set\n",
    "D_Data_Evecs = D_Data_PCA.components_                           # Extract Eigenvectors\n",
    "D_Data_Evals = D_Data_PCA.singular_values_                      # Extract Eigenvalues\n",
    "D_Data_Explained = D_Data_PCA.explained_variance_ratio_         # Extract Explained Variance"
   ]
  },
  {
   "cell_type": "markdown",
   "metadata": {},
   "source": [
    "### Horizontal Data PCA | Sklearn Methodology\n",
    "Here, we leverage sklearn's decomposition package and its built-in PCA function in order to perform PCA for each of the three types of transforms, and extract:\n",
    "- The transformed data\n",
    "- The eigenvectors\n",
    "- The singular eigenvalues\n",
    "- The total explained variance\n",
    "\n",
    "This will create a number of components equal to the lower value between the number of samples and the number of features. In our case, given that our sample size has n = 100, it will be 100. "
   ]
  },
  {
   "cell_type": "code",
   "execution_count": 15,
   "metadata": {},
   "outputs": [],
   "source": [
    "H_Data_PCA = skdec.PCA()                                     # Initialize PCA with n = 20\n",
    "H_Data_Transform = H_Data_PCA.fit_transform(H_Data_arr)      # Apply to Diagonal Data Set\n",
    "H_Data_Evecs = H_Data_PCA.components_                        # Extract eigenvectors\n",
    "H_Data_Evals = H_Data_PCA.singular_values_                   # Extract eigenvalues\n",
    "H_Data_Explained = H_Data_PCA.explained_variance_ratio_      # Extract explained variance\n"
   ]
  },
  {
   "cell_type": "markdown",
   "metadata": {},
   "source": [
    "### Vertical Data PCA | Sklearn Methodology\n",
    "Here, we leverage sklearn's decomposition package and its built-in PCA function in order to perform PCA for each of the three types of transforms, and extract:\n",
    "- The transformed data\n",
    "- The eigenvectors\n",
    "- The singular eigenvalues\n",
    "- The total explained variance\n",
    "\n",
    "This will create a number of components equal to the lower value between the number of samples and the number of features. In our case, given that our sample size has n = 100, it will be 100. "
   ]
  },
  {
   "cell_type": "code",
   "execution_count": 16,
   "metadata": {},
   "outputs": [],
   "source": [
    "V_Data_PCA = skdec.PCA()                                     # Initialize PCA with n = 20\n",
    "V_Data_Transform = V_Data_PCA.fit_transform(V_Data_arr)      # Apply to Diagonal Data Set\n",
    "V_Data_Evecs = V_Data_PCA.components_                        # Extract eigenvectors\n",
    "V_Data_Evals = V_Data_PCA.singular_values_                   # Extract eigenvalues\n",
    "V_Data_Explained = V_Data_PCA.explained_variance_ratio_      # Extract explained variance\n"
   ]
  },
  {
   "cell_type": "markdown",
   "metadata": {},
   "source": [
    "### Explained Variance Target Approach: 90%\n",
    "Here, we seek to determine, for each of the transfornms, how many principal components we must keep in order to explain 90% of the data's variance. To do this, we will take the following steps:\n",
    "- Initialize a for-loop that iterates through the explained_variance variable until its sum is greater than or equal to 0.9.\n",
    "- We then extract the iterative loop number, allowing us to define how many principal components to keep. \n",
    "- We then perform PCA using this value as the number of total components to keep. "
   ]
  },
  {
   "cell_type": "markdown",
   "metadata": {},
   "source": [
    "### Diagonal Space | 90% Variance Explained:\n",
    "Here we perform the operation described above on the diagonal set, retaining the amount of components that explain 90% of the variance."
   ]
  },
  {
   "cell_type": "code",
   "execution_count": 17,
   "metadata": {},
   "outputs": [
    {
     "name": "stdout",
     "output_type": "stream",
     "text": [
      "In the diagonal set, 30 components will explain 90% of the variance.\n"
     ]
    }
   ],
   "source": [
    "# Find out how many components it takes to explain 90% of the variance.\n",
    "n_components_90_diag = 0\n",
    "for i in range(len(D_Data_Explained)):\n",
    "    if np.sum(D_Data_Explained[0:i]) <= .9:\n",
    "        n_components_90_diag = i + 1\n",
    "\n",
    "print(f\"In the diagonal set, {n_components_90_diag} components will explain 90% of the variance.\")\n",
    "\n",
    "# Now we can run PCA, keeping only the amount of components necessary to explain 90% of variance.\n",
    "D_Data_PCA = skdec.PCA(n_components_90_diag)                # Initialize PCA with desired n\n",
    "D_Data_Transform = D_Data_PCA.fit_transform(D_Data_arr)     # Apply to Diagonal Data Set\n"
   ]
  },
  {
   "cell_type": "markdown",
   "metadata": {},
   "source": [
    "### Horizontal Space | 90% Variance Explained:\n",
    "Here we perform the operation described above on the horizontal set, retaining the amount of components that explain 90% of the variance."
   ]
  },
  {
   "cell_type": "code",
   "execution_count": 18,
   "metadata": {},
   "outputs": [
    {
     "name": "stdout",
     "output_type": "stream",
     "text": [
      "In the horizontal set, 25 components will explain 90% of the variance.\n"
     ]
    }
   ],
   "source": [
    "# Find out how many components it takes to explain 90% of the variance.\n",
    "n_components_90_hor = 0\n",
    "for i in range(len(H_Data_Explained)):\n",
    "    if np.sum(H_Data_Explained[0:i]) <= .9:\n",
    "        n_components_90_hor = i + 1\n",
    "\n",
    "print(f\"In the horizontal set, {n_components_90_hor} components will explain 90% of the variance.\")\n",
    "\n",
    "# Now we can run PCA, keeping only the amount of components necessary to explain 90% of variance.\n",
    "H_Data_PCA = skdec.PCA(n_components_90_hor)                 # Initialize PCA with desired n\n",
    "H_Data_Transform = H_Data_PCA.fit_transform(H_Data_arr)     # Apply to Diagonal Data Set"
   ]
  },
  {
   "cell_type": "markdown",
   "metadata": {},
   "source": [
    "### Vertical Space | 90% Variance Explained:\n",
    "Here we perform the operation described above on the vertical set, retaining the amount of components that explain 90% of the variance."
   ]
  },
  {
   "cell_type": "code",
   "execution_count": 19,
   "metadata": {},
   "outputs": [
    {
     "name": "stdout",
     "output_type": "stream",
     "text": [
      "In the vertical set, 25 components will explain 90% of the variance.\n"
     ]
    }
   ],
   "source": [
    "# Find out how many components it takes to explain 90% of the variance.\n",
    "n_components_90_vert = 0\n",
    "for i in range(len(V_Data_Explained)):\n",
    "    if np.sum(V_Data_Explained[0:i]) <= .9:\n",
    "        n_components_90_vert = i + 1\n",
    "\n",
    "print(f\"In the vertical set, {n_components_90_vert} components will explain 90% of the variance.\")\n",
    "\n",
    "# Now we can run PCA, keeping only the amount of components necessary to explain 90% of variance.\n",
    "V_Data_PCA = skdec.PCA(n_components_90_vert)                 # Initialize PCA with desired n\n",
    "V_Data_Transform = V_Data_PCA.fit_transform(V_Data_arr)      # Apply to Diagonal Data Set"
   ]
  },
  {
   "cell_type": "markdown",
   "metadata": {},
   "source": [
    "## Save the new data in a file of your choice, *.txt, *.csv, etc\n",
    "Here, we will save our output data to a new csv file! This will take the following steps:\n",
    "- Convert the transformed data to a pandas DataFrame, for ease of exportation\n",
    "- Leverage pandas' .to_csv() function to save the outputs to our current directory"
   ]
  },
  {
   "cell_type": "code",
   "execution_count": null,
   "metadata": {},
   "outputs": [],
   "source": [
    "# Diagonal Set\n",
    "D_Data_Transform_df = pd.DataFrame(D_Data_Transform)\n",
    "D_Data_Transform_df.to_csv(\"Transformed_Matrices_Diagonal.csv\")\n",
    "\n",
    "# Vertical Set\n",
    "V_Data_Transform_df = pd.DataFrame(V_Data_Transform)\n",
    "V_Data_Transform_df.to_csv(\"Transformed_Matrices_Vertical.csv\")\n",
    "\n",
    "# Horizontal Set\n",
    "H_Data_Transform_df = pd.DataFrame(H_Data_Transform)\n",
    "H_Data_Transform_df.to_csv(\"Transformed_Matrices_Horizontal.csv\")"
   ]
  }
 ],
 "metadata": {
  "interpreter": {
   "hash": "a1d2e092533f1e640008485ed81988d2ca321659367e10b1d181c424e21cb877"
  },
  "kernelspec": {
   "display_name": "Python 3.9.6 64-bit",
   "language": "python",
   "name": "python3"
  },
  "language_info": {
   "codemirror_mode": {
    "name": "ipython",
    "version": 3
   },
   "file_extension": ".py",
   "mimetype": "text/x-python",
   "name": "python",
   "nbconvert_exporter": "python",
   "pygments_lexer": "ipython3",
   "version": "3.9.6"
  },
  "orig_nbformat": 4
 },
 "nbformat": 4,
 "nbformat_minor": 2
}
